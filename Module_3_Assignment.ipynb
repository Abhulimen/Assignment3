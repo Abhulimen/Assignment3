{
 "cells": [
  {
   "cell_type": "code",
   "execution_count": 1,
   "id": "ea20716d",
   "metadata": {},
   "outputs": [
    {
     "name": "stdout",
     "output_type": "stream",
     "text": [
      "database created successfully\n"
     ]
    }
   ],
   "source": [
    "import sqlite3\n",
    "conn = sqlite3.connect('employees.db')\n",
    "print('database created successfully')\n",
    "cursor = conn.cursor()\n"
   ]
  },
  {
   "cell_type": "code",
   "execution_count": 1,
   "id": "a95619a1",
   "metadata": {
    "scrolled": true
   },
   "outputs": [
    {
     "name": "stdout",
     "output_type": "stream",
     "text": [
      "database created successfully\n",
      "I have inserted 62 records to this table\n"
     ]
    },
    {
     "data": {
      "text/plain": [
       "[(27500,)]"
      ]
     },
     "execution_count": 1,
     "metadata": {},
     "output_type": "execute_result"
    }
   ],
   "source": [
    "import pandas as pd\n",
    "import sqlite3\n",
    "conn = sqlite3.connect('employees.db')\n",
    "print('database created successfully')\n",
    "cursor = conn.cursor()\n",
    "cursor.execute('''\n",
    "        CREATE TABLE employee(\n",
    "                employee_id int PRIMARY KEY,\n",
    "                last_name text,\n",
    "                first_name text,\n",
    "                position text,\n",
    "                salary int,\n",
    "                date_hired int\n",
    "                            \n",
    "         )\n",
    "''')\n",
    "conn.commit()\n",
    "my_list = [('Lew', 'Allen', 'Administrator', 29_500, 2004),\n",
    "           ('Sessoms', 'Allen', 'President', 29_500, 2008),\n",
    "           ('Henderson', 'kayatanya', 'Superintendent', 27_500, 2007),\n",
    "          ('Lanier', 'Cathy', 'Chief', 230743, 1990),\n",
    "          ('Arons', 'Bernard', 'Medical Officer Psych', 206_000, 2008),\n",
    "          ('Ritchie', 'Elspeth', 'Medical Officer Psych', 206_000, 2010),\n",
    "          ('Gray', 'Vincent', 'Mayor', 200_000, 2005),\n",
    "          ('Marshal', 'Katherine', 'Medical Officer Psych', 200_000, 2008),\n",
    "          ('Gandhi', 'Natwar', 'Chief Financial Officer', 199_700, 1997),\n",
    "          ('Duncan', 'Loretta', 'Workers Compensation Recipient', 197_808, 1984),\n",
    "          ('Baxter', 'Graeme', 'Act Provost & VP Acd Aff', 196_257, 2008),\n",
    "          ('Miramontes', 'David', 'Medical Director', 193_125, 2011),\n",
    "          ('Graves', 'Warren', 'Chief of Staff', 193_125, 2007),\n",
    "          ('Stanchfield', 'Eric', 'Executive Director', 193_125, 2007),\n",
    "          ('Jones', 'Tyler', 'Medical Officer Psych', 190_550, 2008),\n",
    "          ('Brown', 'Kwame', 'Chairman', 190_000, 2005),\n",
    "          ('Eure', 'Philip', 'Executive Director', 188_692, 2000),\n",
    "          ('Cooper', 'Ginnie', 'Executive Director', 188_044, 2006),\n",
    "          ('Yadao', 'Nilda', 'Medical Officer Psych', 188_027, 1987),\n",
    "          ('Ellerbe', 'Kenneth', 'Fire Chief', 187_302, 2003),\n",
    "          ('Ruland', 'Jeffrey', 'Dir of the Ctr for Wf Str & Ec', 186_911, 2009),\n",
    "          ('Parker', 'Craig', 'General Counsel', 186_911, 2009),\n",
    "          ('Farley', 'Mark', 'Vp Human Resources', 186_911, 2008),\n",
    "          ('Otero', 'Beatriz', 'Dep Mayor for Hlth & Human Svcs', 185_000, 2011),\n",
    "          ('Quander', 'Paul', 'Deputy Mayor', 185_000, 2009),\n",
    "          ('Pierre', 'Louis Marie', 'Chief Medical Examiner', 185_000, 1985),\n",
    "          ('Pestaner', 'Joseph', 'Medical officer(medical Exami)', 183_892, 1997),\n",
    "          ('Revercomb', 'Carolyn', 'Medical officer(medical Exami)', 183_892, 2005),\n",
    "          ('Morgan', 'Johnson Shiela', 'Chief Investment Officer', 183_677, 1991),\n",
    "          ('Williamson', 'Michael', 'Deputy Director', 182_000, 2011),\n",
    "          ('White', 'Mattie', 'Medical Officer Psych', 180_604, 1987),\n",
    "          ('Park', 'Kyung', 'Medical Officer Psych', 180_604, 1987),\n",
    "          ('Gore', 'T', 'Medical Officer Psych', 172_101, 2005),\n",
    "          ('Ludwig', 'Benjamin', 'Workers Compensation Recipient', 171_517, 1972),\n",
    "          ('Atdjian', 'Sylvia', 'Medical Officer Psych', 170_938, 2007),\n",
    "          ('Zaidi', 'Syed', 'Medical Officer Psych', 170_344, 1991),\n",
    "          ('Sherron', 'Robert', 'Medical Officer Psych', 170_344, 2007),\n",
    "          ('Johnson', 'Nicole', 'Medical Officer Psych', 170_344, 2007),\n",
    "          ('Ruda', 'Lisa', 'Chief of Staff', 170_000, 2007),\n",
    "          ('Beers', 'Nathaniel', 'Deputy Superintendent', 170_000, 2007),\n",
    "          ('Nuss', 'Laura', 'Director', 170_000, 2007),\n",
    "          ('Mancini', 'Robert', 'Acting Director', 170_000, 2004),\n",
    "          ('Wicker', 'Henry', 'Medical officer Opthal', 168_378, 1987),\n",
    "          ('Davenport', 'Nancy', 'Administrative Librarian', 167_200, 2006),\n",
    "          ('Jaji', 'Abayomi', 'Medical Officer Psych', 167_062, 2000),\n",
    "          ('Stevens', 'KyleeAnn', 'Medical Officer Psych', 167_051, 2008),\n",
    "          ('Smothers', 'Kenneth', 'Medical Officer Psych',166_995, 1987),\n",
    "          ('Akhtar', 'Saleha', 'Medical Officer Psych', 199_995, 1988),\n",
    "          ('Singh', 'Anjali', 'Medical Officer Psych', 166_370, 1988),\n",
    "          ('Rahman', 'Umar', 'Medical Officer Psych', 166_370, 1996),\n",
    "          ('Adewale', 'Benjamin', 'Medical Officer Psych', 166_370, 1988),\n",
    "          ('Zaidi', 'Syed', 'Medical Officer General Practi', 165_842, 1983),\n",
    "          ('Jackson', 'Kenneth', 'Assistant Fire Chief Srvs', 165_306, 1982),\n",
    "          ('Berns', 'David', 'Dir of Human Resources', 165_200, 2011),\n",
    "          ('Cordi', 'Stephen', 'Deputy Cfo Otr', 165_162, 2008),\n",
    "          ('Mallory', 'Lisa', 'Acting Director', 165_000, 2004),\n",
    "          ('Flowers', 'Brian', 'General Counsel', 165_000, 1985),\n",
    "          ('Bellamy', 'Terry', 'Director', 165_000, 2008),\n",
    "          ('West', 'Millicent', 'Director Homeland sec & Ema', 165_000, 2003),\n",
    "          ('Pappas', 'Gregory', 'Deputy Dir', 164800, 2011),\n",
    "          ('Altaf', 'Samia', 'Supervisory Medical Officer', 164_800, 2010),\n",
    "          ('Owens', 'Karen', 'Dental Officer', 164_800, 1989)]\n",
    "\n",
    "cursor.executemany('INSERT INTO employee( last_name,first_name,position,salary,date_hired)VALUES(?,?,?,?,?)', my_list)\n",
    "print('I have inserted', cursor.rowcount, 'records to this table')\n",
    "conn.commit()\n",
    "#2\n",
    "cursor.execute('SELECT DISTINCT position FROM employee');\n",
    "#3\n",
    "cursor.execute('SELECT * FROM employee ORDER BY first_name DESC');\n",
    "#4\n",
    "cursor.execute('SELECT first_name, last_name, salary FROM employee WHERE salary > 200000');\n",
    "#5\n",
    "cursor.execute('UPDATE employee SET last_name = \"Peter\" WHERE first_name = \"Lisa\"');\n",
    "conn.commit()\n",
    "cursor.execute('SELECT * FROM employee WHERE first_name = \"Lisa\"');\n",
    "#6\n",
    "cursor.execute('DELETE FROM employee WHERE last_name = \"Kwame\"');\n",
    "conn.commit()\n",
    "cursor.execute('SELECT * FROM employee');\n",
    "#7\n",
    "cursor.execute('SELECT position AS job_role FROM employee');\n",
    "#8\n",
    "cursor.execute('SELECT employee_id, first_name, last_name AS Name, salary FROM employee ORDER BY salary ASC');\n",
    "#9\n",
    "cursor.execute('SELECT COUNT(*) FROM employee WHERE salary > 200000');\n",
    "#10\n",
    "cursor.execute('SELECT MAX(salary) FROM employee');\n",
    "cursor.execute('SELECT MIN(salary) FROM employee');\n",
    "conn.commit()\n",
    "cursor.fetchall()"
   ]
  },
  {
   "cell_type": "code",
   "execution_count": null,
   "id": "22df2dc9",
   "metadata": {},
   "outputs": [],
   "source": []
  }
 ],
 "metadata": {
  "kernelspec": {
   "display_name": "Python 3 (ipykernel)",
   "language": "python",
   "name": "python3"
  },
  "language_info": {
   "codemirror_mode": {
    "name": "ipython",
    "version": 3
   },
   "file_extension": ".py",
   "mimetype": "text/x-python",
   "name": "python",
   "nbconvert_exporter": "python",
   "pygments_lexer": "ipython3",
   "version": "3.9.12"
  }
 },
 "nbformat": 4,
 "nbformat_minor": 5
}
